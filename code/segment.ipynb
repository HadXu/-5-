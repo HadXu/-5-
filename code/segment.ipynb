{
 "cells": [
  {
   "cell_type": "markdown",
   "metadata": {},
   "source": [
    "# segment\n",
    "\n",
    "* 将测试集进行分割"
   ]
  },
  {
   "cell_type": "code",
   "execution_count": 1,
   "metadata": {},
   "outputs": [
    {
     "name": "stderr",
     "output_type": "stream",
     "text": [
      "/home/kawayi-4/anaconda3/lib/python3.6/site-packages/matplotlib/font_manager.py:281: UserWarning: Matplotlib is building the font cache using fc-list. This may take a moment.\n",
      "  'Matplotlib is building the font cache using fc-list. '\n"
     ]
    }
   ],
   "source": [
    "import numpy as np\n",
    "import pandas as pd\n",
    "import matplotlib.pyplot as plt\n",
    "import time\n",
    "import pickle\n",
    "import datetime\n",
    "\n",
    "%matplotlib inline\n",
    "\n",
    "from contextlib import contextmanager\n",
    "\n",
    "@contextmanager\n",
    "def timer(name):\n",
    "    start_time = time.time()\n",
    "    yield\n",
    "    print(f'[{name} done in {time.time() - start_time:.2f} s]')"
   ]
  },
  {
   "cell_type": "code",
   "execution_count": 2,
   "metadata": {},
   "outputs": [
    {
     "name": "stdout",
     "output_type": "stream",
     "text": [
      "[read pred done in 0.14 s]\n"
     ]
    }
   ],
   "source": [
    "with timer('read pred'):\n",
    "    toBePredict = pd.read_csv('data/toBePredicted_forUser.csv',index_col=False)\n",
    "    toBePredict['realTime'] = pd.to_datetime('2017-'+toBePredict['O_DATA']+' '+toBePredict['predHour'],format='%Y-%m-%d %H:%M:%S')"
   ]
  },
  {
   "cell_type": "code",
   "execution_count": 3,
   "metadata": {},
   "outputs": [
    {
     "name": "stdout",
     "output_type": "stream",
     "text": [
      "[read assigment csv done in 363.98 s]\n"
     ]
    }
   ],
   "source": [
    "assigment = pd.DataFrame()\n",
    "with timer('read assigment csv'):\n",
    "    for day in ['25','26','27','28','29','30','31']:\n",
    "        temp = pd.read_csv(\"data/train201710\"+day+\".csv\", sep=\",\")\n",
    "        temp['O_TIME'] = pd.to_datetime('2017-10-'+day+' '+temp['O_TIME'],format='%Y-%m-%d %H:%M:%S')\n",
    "        temp = temp.groupby(['O_LINENO', 'O_TERMINALNO']).apply(lambda x:x.sort_values(by='O_TIME', ascending=True))\n",
    "        assigment = pd.concat([assigment,temp])\n",
    "assigment['O_DATA'] = assigment['O_TIME'].dt.day"
   ]
  },
  {
   "cell_type": "code",
   "execution_count": 4,
   "metadata": {},
   "outputs": [],
   "source": [
    "from math import sin, cos, sqrt, atan2, radians,acos,pi\n",
    "\n",
    "def distance(coord1, coord2):\n",
    "    R = 6373.0\n",
    "    lat1 = radians(coord1[0])\n",
    "    lon1 = radians(coord1[1])\n",
    "    lat2 = radians(coord2[0])\n",
    "    lon2 = radians(coord2[1])\n",
    "\n",
    "    dlon = lon2 - lon1\n",
    "    dlat = lat2 - lat1\n",
    "    a = (sin(dlat/2))**2 + cos(lat1) * cos(lat2) * (sin(dlon/2))**2\n",
    "    c = 2 * atan2(sqrt(a), sqrt(1-a))\n",
    "    d = R * c\n",
    "    return d\n",
    "\n",
    "def get_last_station(bus1):\n",
    "    # bus1[(bus1['O_SPEED'] == 0) & (bus1['O_LONGITUDE'] != 0.0) & (bus1['O_LATITUDE'] != 0.0)]\n",
    "    len = bus1.shape[0]\n",
    "    d = 0\n",
    "    for i in range(len-1,0,-1):\n",
    "        start_bus = bus1.iloc[i-1]\n",
    "        station = start_bus['O_NEXTSTATIONNO']\n",
    "        loc = [start_bus['O_LATITUDE'], start_bus['O_LONGITUDE']]\n",
    "\n",
    "        next_bus = bus1.iloc[i]\n",
    "        next_station = next_bus['O_NEXTSTATIONNO']\n",
    "        next_loc = [next_bus['O_LATITUDE'], next_bus['O_LONGITUDE']]\n",
    "\n",
    "        if (next_station == station):            \n",
    "            d = d + distance(loc, next_loc)\n",
    "        if (next_station > station):\n",
    "            return next_station-1,bus1.iloc[i]['O_UP'],bus1.iloc[i],d\n",
    "        elif (next_station < station):\n",
    "            return next_station-1,bus1.iloc[i]['O_UP'],bus1.iloc[i-1],d"
   ]
  },
  {
   "cell_type": "code",
   "execution_count": 93,
   "metadata": {},
   "outputs": [
    {
     "name": "stdout",
     "output_type": "stream",
     "text": [
      "(38, '10-26', 47, 963840, '7:00:00', 2, 20, 0, Timestamp('2017-10-26 07:00:00'))\n",
      "\n",
      "finishded 38\n",
      "\n",
      "finishded 19968\n",
      "\n"
     ]
    }
   ],
   "source": [
    "df = pd.DataFrame()\n",
    "count = 0\n",
    "\n",
    "for row in example.itertuples():\n",
    "    import datetime\n",
    "    line = row[2] # 线路\n",
    "    carNo = row[3] # 车编号\n",
    "    currtime = row[8] # 此时时间\n",
    "    twominute = datetime.timedelta(minutes=-60) + currtime\n",
    "    \n",
    "    bus1 = assigment[(assigment['O_TERMINALNO']==carNo) & (assigment['O_LINENO']==line)]\n",
    "    bus1 = bus1[(bus1['O_TIME']<currtime) & (bus1['O_TIME']>twominute)]\n",
    "    \n",
    "    if get_last_station(bus1) is None:\n",
    "        #如果发生下面都不动了\n",
    "        try:\n",
    "            res = bus1.iloc[-1]\n",
    "            lastStation_NO = res[11]-1\n",
    "            lastStation_Time = res[2]\n",
    "            LONGITUDE = res[3]\n",
    "            LATITUDE = res[4]\n",
    "            UP = res[9]\n",
    "            d = -1\n",
    "            with open('problems.txt','a+') as f:\n",
    "                f.write(str(tuple(row))+'\\n')\n",
    "                print(str(tuple(row))+'\\n')\n",
    "        except:\n",
    "            res = -1\n",
    "            lastStation_NO = -1\n",
    "            lastStation_Time = -1\n",
    "            LONGITUDE = -1\n",
    "            LATITUDE = -1\n",
    "            UP = row[7]\n",
    "            d = -1\n",
    "            with open('problems.txt','a+') as f:\n",
    "                f.write(str(tuple(row))+'\\n')\n",
    "                print(str(tuple(row))+'\\n')\n",
    "    else:\n",
    "        last_station_NO, up, last_station_info, dis= get_last_station(bus1)\n",
    "        # 如果\n",
    "        lastStation_NO = last_station_NO\n",
    "        lastStation_Time = last_station_info[2]\n",
    "        LONGITUDE = last_station_info[3]\n",
    "        LATITUDE = last_station_info[4]\n",
    "        UP = up\n",
    "        d = dis\n",
    "    \n",
    "    \n",
    "    \"\"\"\n",
    "    O_DATA O_LINENO O_TERMINALNO predHour pred_start_stop_ID pred_end_stop_ID \n",
    "    \n",
    "    realTime lastStation lastStation_Time LONGITUDE LATITUDE UP d\n",
    "    \n",
    "    \"\"\"\n",
    "    DATA = row[1]\n",
    "    LINE = row[2]\n",
    "    TERMINALNO = row[3]\n",
    "    predHour = row[4]\n",
    "    pred_start_stop_ID = row[5]\n",
    "    pred_end_stop_ID = row[6]\n",
    "    realTime = row[8]\n",
    "    \n",
    "#     lastStation_NO = last_station_NO\n",
    "#     lastStation_Time = last_station_info[2]\n",
    "#     LONGITUDE = last_station_info[3]\n",
    "#     LATITUDE = last_station_info[4]\n",
    "#     UP = last_station_info[9]\n",
    "    \n",
    "    \n",
    "    temp = pd.DataFrame({\n",
    "        'DATA':[DATA],\n",
    "        'LINE':[LINE],\n",
    "        'TERMINALNO':[TERMINALNO],\n",
    "        'predHour':[predHour],\n",
    "        'pred_start_stop_ID':[pred_start_stop_ID],\n",
    "        'pred_end_stop_ID':[pred_end_stop_ID],\n",
    "        'realTime':[realTime],\n",
    "        'lastStation_NO':[lastStation_NO],\n",
    "        'lastStation_Time':[lastStation_Time],\n",
    "        'LONGITUDE':[LONGITUDE],\n",
    "        'LATITUDE':[LATITUDE],\n",
    "        'UP':[UP],\n",
    "        'distance':[d]\n",
    "    })\n",
    "    df = pd.concat([df,temp])\n",
    "    print('finishded {}\\n'.format(row[0]))"
   ]
  },
  {
   "cell_type": "code",
   "execution_count": null,
   "metadata": {},
   "outputs": [],
   "source": [
    "df.to_csv('toBePredict_0605.csv',index=False)"
   ]
  },
  {
   "cell_type": "code",
   "execution_count": 146,
   "metadata": {},
   "outputs": [],
   "source": [
    "toBePredicted_0605 = pd.read_csv('toBePredict_0605.csv')"
   ]
  },
  {
   "cell_type": "code",
   "execution_count": 147,
   "metadata": {},
   "outputs": [
    {
     "data": {
      "text/html": [
       "<div>\n",
       "<style scoped>\n",
       "    .dataframe tbody tr th:only-of-type {\n",
       "        vertical-align: middle;\n",
       "    }\n",
       "\n",
       "    .dataframe tbody tr th {\n",
       "        vertical-align: top;\n",
       "    }\n",
       "\n",
       "    .dataframe thead th {\n",
       "        text-align: right;\n",
       "    }\n",
       "</style>\n",
       "<table border=\"1\" class=\"dataframe\">\n",
       "  <thead>\n",
       "    <tr style=\"text-align: right;\">\n",
       "      <th></th>\n",
       "      <th>DATA</th>\n",
       "      <th>LATITUDE</th>\n",
       "      <th>LINE</th>\n",
       "      <th>LONGITUDE</th>\n",
       "      <th>TERMINALNO</th>\n",
       "      <th>UP</th>\n",
       "      <th>distance</th>\n",
       "      <th>lastStation_NO</th>\n",
       "      <th>lastStation_Time</th>\n",
       "      <th>predHour</th>\n",
       "      <th>pred_end_stop_ID</th>\n",
       "      <th>pred_start_stop_ID</th>\n",
       "      <th>realTime</th>\n",
       "    </tr>\n",
       "  </thead>\n",
       "  <tbody>\n",
       "    <tr>\n",
       "      <th>0</th>\n",
       "      <td>10-28</td>\n",
       "      <td>39.1098</td>\n",
       "      <td>678</td>\n",
       "      <td>117.249</td>\n",
       "      <td>904388</td>\n",
       "      <td>0</td>\n",
       "      <td>0.417984</td>\n",
       "      <td>11</td>\n",
       "      <td>2017-10-28 13:59:01</td>\n",
       "      <td>14:00:00</td>\n",
       "      <td>33</td>\n",
       "      <td>12</td>\n",
       "      <td>2017-10-28 14:00:00</td>\n",
       "    </tr>\n",
       "    <tr>\n",
       "      <th>1</th>\n",
       "      <td>10-26</td>\n",
       "      <td>39.1130</td>\n",
       "      <td>13</td>\n",
       "      <td>117.213</td>\n",
       "      <td>902540</td>\n",
       "      <td>1</td>\n",
       "      <td>0.203901</td>\n",
       "      <td>6</td>\n",
       "      <td>2017-10-26 16:58:57</td>\n",
       "      <td>17:00:00</td>\n",
       "      <td>19</td>\n",
       "      <td>7</td>\n",
       "      <td>2017-10-26 17:00:00</td>\n",
       "    </tr>\n",
       "  </tbody>\n",
       "</table>\n",
       "</div>"
      ],
      "text/plain": [
       "    DATA  LATITUDE  LINE  LONGITUDE  TERMINALNO  UP  distance  lastStation_NO  \\\n",
       "0  10-28   39.1098   678    117.249      904388   0  0.417984              11   \n",
       "1  10-26   39.1130    13    117.213      902540   1  0.203901               6   \n",
       "\n",
       "      lastStation_Time  predHour  pred_end_stop_ID  pred_start_stop_ID  \\\n",
       "0  2017-10-28 13:59:01  14:00:00                33                  12   \n",
       "1  2017-10-26 16:58:57  17:00:00                19                   7   \n",
       "\n",
       "              realTime  \n",
       "0  2017-10-28 14:00:00  \n",
       "1  2017-10-26 17:00:00  "
      ]
     },
     "execution_count": 147,
     "metadata": {},
     "output_type": "execute_result"
    }
   ],
   "source": [
    "toBePredicted_0605.head(2)"
   ]
  },
  {
   "cell_type": "code",
   "execution_count": 131,
   "metadata": {},
   "outputs": [],
   "source": [
    "index = toBePredicted_0605[toBePredicted_0605['UP']==-1].index.values"
   ]
  },
  {
   "cell_type": "code",
   "execution_count": 150,
   "metadata": {},
   "outputs": [
    {
     "name": "stderr",
     "output_type": "stream",
     "text": [
      "/home/b418-xiwei/anaconda3/envs/dl/lib/python3.6/site-packages/ipykernel_launcher.py:3: FutureWarning: set_value is deprecated and will be removed in a future release. Please use .at[] or .iat[] accessors instead\n",
      "  This is separate from the ipykernel package so we can avoid doing imports until\n"
     ]
    }
   ],
   "source": [
    "for i in index:\n",
    "    v = toBePredict.iloc[i, 6]\n",
    "    toBePredicted_0605.set_value(i,'UP',v)"
   ]
  },
  {
   "cell_type": "code",
   "execution_count": 153,
   "metadata": {},
   "outputs": [],
   "source": [
    "toBePredicted_0605.to_csv('toBePredicted_0607.csv',index=False)"
   ]
  },
  {
   "cell_type": "code",
   "execution_count": 164,
   "metadata": {},
   "outputs": [],
   "source": [
    "toBePredicted_0607 = pd.read_csv('toBePredicted_0607.csv')"
   ]
  },
  {
   "cell_type": "code",
   "execution_count": 166,
   "metadata": {},
   "outputs": [
    {
     "name": "stdout",
     "output_type": "stream",
     "text": [
      "finished 0 \n",
      "\n",
      "finished 5000 \n",
      "\n",
      "finished 10000 \n",
      "\n",
      "finished 15000 \n",
      "\n",
      "finished 20000 \n",
      "\n",
      "finished 25000 \n",
      "\n",
      "finished 30000 \n",
      "\n"
     ]
    }
   ],
   "source": [
    "df = pd.DataFrame()\n",
    "for row in toBePredicted_0607.itertuples():\n",
    "    DATA = row[1]\n",
    "    LATITUDE = row[2]\n",
    "    LINE = row[3]\n",
    "    LONGITUDE = row[4]\n",
    "    TERMINALNO = row[5]\n",
    "    UP = row[6]\n",
    "    distance = row[7]\n",
    "    lastStation_NO = row[8]\n",
    "    lastStation_Time = row[9]\n",
    "    predHour = row[10]\n",
    "    pred_end_stop_ID = row[11]\n",
    "    pred_start_stop_ID = row[12]\n",
    "    realTime = row[13]\n",
    "    tmp = pd.DataFrame()\n",
    "    \n",
    "    if lastStation_NO>pred_start_stop_ID:\n",
    "        lastStation_NO = -1\n",
    "    \n",
    "    if lastStation_NO !=-1:\n",
    "        start = min(pred_start_stop_ID-1,lastStation_NO)\n",
    "    else:\n",
    "        start = pred_start_stop_ID-1\n",
    "        lastStation_Time = realTime = row[13]\n",
    "\n",
    "        \n",
    "    for p in range(start,pred_end_stop_ID):\n",
    "        if p==start:\n",
    "            d = distance\n",
    "        else:\n",
    "            d = 0\n",
    "        res = pd.DataFrame({'DATA':[DATA],\n",
    "                            'LATITUDE':[LATITUDE],\n",
    "                            'LINE':[LINE],\n",
    "                            'LONGITUDE':[LONGITUDE],\n",
    "                            'TERMINALNO':[TERMINALNO],\n",
    "                            'UP':[UP],\n",
    "                            'lastStation_NO':[lastStation_NO],\n",
    "                            'lastStation_Time':[lastStation_Time],\n",
    "                            'predHour':[predHour],\n",
    "                            'pred_end_stop_ID':[p+1],\n",
    "                            'pred_start_stop_ID':[p],\n",
    "                            'realTime':[realTime],\n",
    "                            'distance':[d]})\n",
    "        \n",
    "        \n",
    "        \n",
    "        tmp = pd.concat([tmp,res])\n",
    "    df = pd.concat([df,tmp])\n",
    "    if row[0] % 5000==0:\n",
    "        print('finished %d \\n'% row[0])"
   ]
  },
  {
   "cell_type": "code",
   "execution_count": null,
   "metadata": {},
   "outputs": [],
   "source": [
    "df.to_csv('toBePredicted_0607_segment.csv')"
   ]
  }
 ],
 "metadata": {
  "kernelspec": {
   "display_name": "Python 3",
   "language": "python",
   "name": "python3"
  },
  "language_info": {
   "codemirror_mode": {
    "name": "ipython",
    "version": 3
   },
   "file_extension": ".py",
   "mimetype": "text/x-python",
   "name": "python",
   "nbconvert_exporter": "python",
   "pygments_lexer": "ipython3",
   "version": "3.6.5"
  }
 },
 "nbformat": 4,
 "nbformat_minor": 2
}
