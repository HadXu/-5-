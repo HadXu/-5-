{
 "cells": [
  {
   "cell_type": "markdown",
   "metadata": {},
   "source": [
    "# unify station"
   ]
  },
  {
   "cell_type": "code",
   "execution_count": 1,
   "metadata": {},
   "outputs": [],
   "source": [
    "import os\n",
    "import pandas as pd\n",
    "import numpy as np\n",
    "from tqdm import tqdm\n",
    "import pickle"
   ]
  },
  {
   "cell_type": "markdown",
   "metadata": {},
   "source": [
    "# 按距离同一所有站点编号"
   ]
  },
  {
   "cell_type": "code",
   "execution_count": 2,
   "metadata": {},
   "outputs": [],
   "source": [
    "all_files = os.listdir('station')\n",
    "all_station = set([x.split('.')[0].split('-')[0] for x in all_files])\n",
    "bus = pd.DataFrame()\n",
    "for i in all_station:\n",
    "    path = 'station/'+str(i)+'.txt';\n",
    "    temp = pd.read_csv(path, header=None,sep=',')\n",
    "    temp['line'] = i\n",
    "    bus = pd.concat([bus, temp])\n",
    "bus.columns = ['up','no','loc1','loc2','line']\n",
    "bus = bus[['line','up','no','loc1','loc2']]\n",
    "info = {}\n",
    "for item in bus.iterrows():\n",
    "    temp = item[1]\n",
    "    line = int(temp['line'])\n",
    "    loc1 = temp['loc1']\n",
    "    loc2 = temp['loc2']\n",
    "    if isinstance(loc1, str):\n",
    "        loc1 = float(loc1.strip())\n",
    "    if isinstance(loc2, str):\n",
    "        loc2 = float(loc2.strip())\n",
    "    \n",
    "    if np.isnan(loc1) and np.isnan(loc2):\n",
    "        continue\n",
    "        \n",
    "    info[(line,temp['up'],temp['no'])] = (loc1, loc2)\n",
    "from math import sin, cos, sqrt, atan2, radians,acos,pi\n",
    "\n",
    "def distance(coord1, coord2):\n",
    "    R = 6373.0\n",
    "    lat1 = radians(coord1[0])\n",
    "    lon1 = radians(coord1[1])\n",
    "    lat2 = radians(coord2[0])\n",
    "    lon2 = radians(coord2[1])\n",
    "\n",
    "    dlon = lon2 - lon1\n",
    "    dlat = lat2 - lat1\n",
    "    a = (sin(dlat/2))**2 + cos(lat1) * cos(lat2) * (sin(dlon/2))**2\n",
    "    c = 2 * atan2(sqrt(a), sqrt(1-a))\n",
    "    d = R * c\n",
    "    return d\n",
    "\n",
    "info_copy = list(info.copy().items())\n",
    "s = []\n",
    "for i in info_copy:\n",
    "    temp = set()\n",
    "    \n",
    "    k = i[0]\n",
    "    v = i[1]\n",
    "    \n",
    "    temp.add(k)\n",
    "    info_copy.remove(i)\n",
    "    \n",
    "    for j in info_copy:\n",
    "        j_k = j[0]\n",
    "        j_v = j[1]\n",
    "        if i != j:\n",
    "            if distance(v, j_v) < 0.05:\n",
    "                temp.add(j_k)\n",
    "                info_copy.remove(j)\n",
    "    \n",
    "    s.append(temp)\n",
    "    \n",
    "res = {}\n",
    "for i,v in enumerate(s):\n",
    "    for k in v:\n",
    "        res[k] = i"
   ]
  },
  {
   "cell_type": "code",
   "execution_count": 4,
   "metadata": {},
   "outputs": [],
   "source": [
    "with open('station_map.pkl','wb') as f:\n",
    "    pickle.dump(res,f)\n",
    "with open('./data/train-id4-crowd-grid3.txt', 'rb') as data_file:\n",
    "    line = pickle.load(data_file)\n",
    "with open('./data/test-id4-crowd-grid3.txt', 'rb') as data_file:\n",
    "    test = pickle.load(data_file)\n",
    "line['Source_Station_encode'] = line.apply(lambda x:station_map.get((x['O_LINENO'], x['O_UP'], x['Source_Station']), -1), axis=1)\n",
    "line['Target_Station_encode'] = line.apply(lambda x:station_map.get((x['O_LINENO'], x['O_UP'], x['Target_Station']), -1), axis=1)\n",
    "test['Source_Station_encode'] = test.apply(lambda x:station_map.get((x['O_LINENO'], x['O_UP'], x['Source_Station']),-1), axis=1)\n",
    "test['Target_Station_encode'] = test.apply(lambda x:station_map.get((x['O_LINENO'], x['O_UP'], x['Target_Station']),-1), axis=1)\n",
    "\n",
    "\"---save---\"\n",
    "with open('./data/train-id4-crowd-grid4.txt', 'wb') as data_file:\n",
    "    pickle.dump(train, data_file)\n",
    "with open('./data/test-id4-crowd-grid4.txt', 'wb') as data_file:\n",
    "    pickle.dump(test, data_file)"
   ]
  }
 ],
 "metadata": {
  "kernelspec": {
   "display_name": "Python 3",
   "language": "python",
   "name": "python3"
  },
  "language_info": {
   "codemirror_mode": {
    "name": "ipython",
    "version": 3
   },
   "file_extension": ".py",
   "mimetype": "text/x-python",
   "name": "python",
   "nbconvert_exporter": "python",
   "pygments_lexer": "ipython3",
   "version": "3.6.5"
  }
 },
 "nbformat": 4,
 "nbformat_minor": 2
}
