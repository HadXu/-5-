{
 "cells": [
  {
   "cell_type": "code",
   "execution_count": null,
   "metadata": {},
   "outputs": [],
   "source": [
    "import pandas as pd\n",
    "import numpy as np\n",
    "import os\n",
    "from pandas.tseries.offsets import *"
   ]
  },
  {
   "cell_type": "markdown",
   "metadata": {},
   "source": [
    "# Station_V(V2)\n",
    "功能 在\"日期\"目录下生成\"线路-v.txt\"文件，记录车辆编号、下一时刻时间、上下行、当前站、下一站、站间最大速度\n",
    "运算逻辑 数据按车辆-线路group，按时间排序，相邻两行数据（i,j）中i的下一站等于（j的下一站+1）时记录<到站>"
   ]
  },
  {
   "cell_type": "code",
   "execution_count": 1,
   "metadata": {},
   "outputs": [],
   "source": [
    "def get_max_v(bus1, line):\n",
    "    # bus1[(bus1['O_SPEED'] == 0) & (bus1['O_LONGITUDE'] != 0.0) & (bus1['O_LATITUDE'] != 0.0)]\n",
    "    len = bus1.shape[0]\n",
    "    d = 0\n",
    "    for i in range(len - 1):\n",
    "        start_bus = bus1.iloc[i]\n",
    "        station = start_bus['O_NEXTSTATIONNO']\n",
    "        on = start_bus['O_UP']\n",
    "        v = start_bus['O_SPEED']\n",
    "        time = start_bus['O_TIME']\n",
    "        car = start_bus['O_TERMINALNO']\n",
    "\n",
    "        if i == 0:\n",
    "            max_v = v\n",
    "            \n",
    "        next_bus = bus1.iloc[i + 1]\n",
    "        next_station = next_bus['O_NEXTSTATIONNO']\n",
    "        next_v = next_bus['O_SPEED']\n",
    "        next_time = next_bus['O_TIME']\n",
    "        next_car = next_bus['O_TERMINALNO']\n",
    "        if (next_station == station):\n",
    "            max_v = np.max([max_v, next_v])\n",
    "        else:\n",
    "            if (next_station == (station + 1)):\n",
    "                \n",
    "                max_v = np.max([max_v, next_v])\n",
    "\n",
    "                ss = str(next_car) + ',' + str(next_time) + ',' + str(bus1['O_UP'].iloc[i + 1]) + ',' + str(\n",
    "                    station - 1) + ',' + str(next_station - 1) + ',' + str(\n",
    "                    max_v) + '\\n'\n",
    "                with open('./' + day + '/' + str(line) + '-v.txt', 'a+') as fw2:\n",
    "                    fw2.write(ss)\n",
    "                max_v = 0"
   ]
  },
  {
   "cell_type": "code",
   "execution_count": null,
   "metadata": {},
   "outputs": [
    {
     "name": "stdout",
     "output_type": "stream",
     "text": [
      "25 (543,)\n"
     ]
    }
   ],
   "source": [
    "for d in range(25, 29):\n",
    "    if d < 10:\n",
    "        day = '0' + str(d)\n",
    "    else:\n",
    "        day = str(d)\n",
    "\n",
    "    train = pd.read_csv(\"/home/b418-xiwei/xzl/notebook/DC/data/train201710\"+day+\".csv\", sep=\",\")\n",
    "    train['O_TIME'] = pd.to_datetime('2017-10-' + day + ' ' + train['O_TIME'], format='%Y-%m-%d %H:%M:%S')\n",
    "    train = train.groupby(['O_LINENO', 'O_TERMINALNO']).apply(lambda x: x.sort_values(by='O_TIME', ascending=True))\n",
    "    \n",
    "    if not os.path.exists('./'+day+'/'):\n",
    "        os.mkdir('./'+day+'/')\n",
    "    line = train['O_LINENO'].drop_duplicates()\n",
    "    print(day,line.shape)\n",
    "    for i in range(line.shape[0]):\n",
    "        l = line.iloc[i]\n",
    "        buses = train[train['O_LINENO'] == l]\n",
    "#         print(l, buses.shape)\n",
    "        get_max_v(buses, l)\n",
    "    print(day, \"pre finished\")"
   ]
  },
  {
   "cell_type": "code",
   "execution_count": null,
   "metadata": {},
   "outputs": [],
   "source": []
  }
 ],
 "metadata": {
  "kernelspec": {
   "display_name": "Python 3",
   "language": "python",
   "name": "python3"
  },
  "language_info": {
   "codemirror_mode": {
    "name": "ipython",
    "version": 3
   },
   "file_extension": ".py",
   "mimetype": "text/x-python",
   "name": "python",
   "nbconvert_exporter": "python",
   "pygments_lexer": "ipython3",
   "version": "3.6.5"
  }
 },
 "nbformat": 4,
 "nbformat_minor": 2
}
